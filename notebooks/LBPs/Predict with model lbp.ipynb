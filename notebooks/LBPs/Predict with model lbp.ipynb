{
 "cells": [
  {
   "cell_type": "markdown",
   "metadata": {},
   "source": [
    "# Prediction\n",
    "\n",
    "0 - load libary\n",
    "\n",
    "1.1 - Load model\n",
    "\n",
    "1.2 - load test image\n",
    "\n",
    "2 - Predict using model"
   ]
  },
  {
   "cell_type": "code",
   "execution_count": 1,
   "metadata": {
    "collapsed": true
   },
   "outputs": [],
   "source": [
    "# Import the necessary packages\n",
    "\n",
    "# for the lbp\n",
    "from skimage import feature\n",
    "\n",
    "# Classifier\n",
    "from sklearn.svm import LinearSVC\n",
    "\n",
    "# to save and load, the model that is created from the classification\n",
    "from sklearn.externals import joblib\n",
    "\n",
    "import matplotlib.pyplot as plt\n",
    "import numpy as np\n",
    "import argparse\n",
    "import imutils\n",
    "import cv2"
   ]
  },
  {
   "cell_type": "code",
   "execution_count": 2,
   "metadata": {
    "collapsed": true
   },
   "outputs": [],
   "source": [
    "def resizeImage(image):\n",
    "    (h, w) = image.shape[:2]\n",
    "\n",
    "    width = 360  #  This \"width\" is the width of the resize`ed image\n",
    "    # calculate the ratio of the width and construct the\n",
    "    # dimensions\n",
    "    ratio = width / float(w)\n",
    "    dim = (width, int(h * ratio))\n",
    "    resized = cv2.resize(image, dim, interpolation=cv2.INTER_AREA)\n",
    "    #resized = cv2.resize(image, dim, interpolation=cv2.INTER_CUBIC)\n",
    "    return resized"
   ]
  },
  {
   "cell_type": "markdown",
   "metadata": {},
   "source": [
    "1.1 - Load model"
   ]
  },
  {
   "cell_type": "code",
   "execution_count": 3,
   "metadata": {
    "collapsed": false
   },
   "outputs": [],
   "source": [
    "# loadModel\n",
    "model = joblib.load(\"model/filename_model.pkl\")"
   ]
  },
  {
   "cell_type": "markdown",
   "metadata": {},
   "source": [
    "2 Predict with the model\n",
    "\n",
    "-  go thru all the squares and extract the feature vector\n",
    "\n",
    "- used .predict\n",
    "\n",
    "- mask the square if prediction == \"other\"\n",
    "\n",
    "\n",
    "\n",
    "\n",
    "-- Return masked image"
   ]
  },
  {
   "cell_type": "code",
   "execution_count": 4,
   "metadata": {
    "collapsed": true
   },
   "outputs": [],
   "source": [
    "# Feature extraction\n",
    "class LocalBinaryPatterns(object):\n",
    "    # this class is from: http://www.pyimagesearch.com/2015/12/07/local-binary-patterns-with-python-opencv/\n",
    "    def __init__(self, numPoints, radius):\n",
    "        # store the number of points and radius\n",
    "        self.numPoints = numPoints\n",
    "        self.radius = radius\n",
    "\n",
    "    def describe(self, image, eps=1e-7):\n",
    "        # Compute the Local Binary Pattern representation\n",
    "        # of the image, and then use the LBP representation\n",
    "        # to build the histogram of patterns\n",
    "        lbp = feature.local_binary_pattern(image, self.numPoints, self.radius, method= \"uniform\" ) # method= \"ror\") #method=\"var\")# method=\"nri_uniform\")  # method=\"uniform\")\n",
    "        # using unifrom binary pattern (watch this to understand better): https://www.youtube.com/watch?annotation_id=annotation_98709127&feature=iv&src_vid=wpAwdsubl1w&v=v-gkPTvdgYo\n",
    "        # different merhod= --> http://scikit-image.org/docs/dev/api/skimage.feature.html?highlight=local_binary_pattern#skimage.feature.local_binary_pattern\n",
    "        (hist, _) = np.histogram(lbp.ravel(),\n",
    "            bins=np.arange(0, self.numPoints + 3),\n",
    "            range=(0, self.numPoints + 2))\n",
    "\n",
    "        # Normalize the histogram\n",
    "        hist = hist.astype(\"float\")\n",
    "        hist /= (hist.sum() + eps)\n",
    "\n",
    "        # return the histogram of Local Binary Patterns\n",
    "        return hist"
   ]
  },
  {
   "cell_type": "code",
   "execution_count": 5,
   "metadata": {
    "collapsed": true
   },
   "outputs": [],
   "source": [
    "def predictMaskedImage(image):\n",
    "    \n",
    "    # get the descriptor class initiated\n",
    "    desc = LocalBinaryPatterns(10, 5)\n",
    "\n",
    "    imageROIList = []\n",
    "    predictionList = []\n",
    "    centerList = []\n",
    "\n",
    "    # This mask has the same width and height a the original image and has a default value of 0 (black).\n",
    "    maskedImage = np.zeros(image.shape[:2], dtype=\"uint8\")\n",
    "    ########### create imageROIList here ############\n",
    "\n",
    "    (h, w) = image.shape[:2]\n",
    "\n",
    "    # Divide the image into 100 pieces\n",
    "    cellSizeYdir = h / 10\n",
    "    cellSizeXdir = w / 10\n",
    "\n",
    "    # start in origo\n",
    "    x = 0\n",
    "    y = 0\n",
    "    counterInt = 0\n",
    "    \n",
    "    #######################################\n",
    "    \n",
    "       # 10*10 = 100\n",
    "    for i in xrange(10):\n",
    "\n",
    "        # update this value\n",
    "        y = cellSizeYdir * (i)\n",
    "        \n",
    "        x = 0 # it starts at 0 for a new row\n",
    "        for j in xrange(10):\n",
    "            # print \"[x] inspecting imageROI %d\" % (counterInt)\n",
    "            counterInt = counterInt + 1\n",
    "            \n",
    "            x = cellSizeXdir * (j)\n",
    "            \n",
    "            imageROI = image[y: cellSizeYdir * (i+1), x:cellSizeXdir * (j+1)]\n",
    "            \n",
    "            #print \"ystart  \" + str(y) + \"  yjump  \" + str((cellSizeYdir * (i+1)))\n",
    "            #print \"xstart  \" + str(x) +  \"  xjump  \" + str((cellSizeXdir * (j+1)))\n",
    "            \n",
    "            \n",
    "            centerPos = (   cellSizeXdir * (j+1) - (cellSizeXdir)/2, cellSizeYdir * (i+1) - (cellSizeYdir)/2)\n",
    "            centerList.append(centerPos)\n",
    "    \n",
    "            #########################################\n",
    "\n",
    "            # grayscale and calculate histogram\n",
    "            grayImageROI = cv2.cvtColor(imageROI, cv2.COLOR_BGR2GRAY)\n",
    "            hist = desc.describe(grayImageROI)\n",
    "\n",
    "            # need prediction to mask image\n",
    "            #model = model\n",
    "            if model == None:\n",
    "                print \"it was none\"\n",
    "                \n",
    "            # reshape the histogram to work with sci kit learn\n",
    "            histNew = np.reshape(hist, (1, len(hist)))\n",
    "            \n",
    "            prediction = model.predict(histNew)[0]\n",
    "            predictionList.append(prediction)\n",
    "\n",
    "            #prediction = model.predict(hist)[0]\n",
    "            #predictionList.append(prediction)\n",
    "\n",
    "            # HERE the returned maskedImage is created\n",
    "            # construct a mask for the segment\n",
    "            if prediction == \"other\":\n",
    "                maskedImage[y:y + cellSizeYdir, x:x + cellSizeXdir] = 255\n",
    "\n",
    "            if prediction == \"ocean\":\n",
    "                maskedImage[y:y + cellSizeYdir, x:x + cellSizeXdir] = 0\n",
    "\n",
    "    return maskedImage, predictionList, centerList"
   ]
  },
  {
   "cell_type": "markdown",
   "metadata": {},
   "source": [
    "### 1.2 load image to predict"
   ]
  },
  {
   "cell_type": "code",
   "execution_count": 6,
   "metadata": {
    "collapsed": false
   },
   "outputs": [
    {
     "data": {
      "text/plain": [
       "True"
      ]
     },
     "execution_count": 6,
     "metadata": {},
     "output_type": "execute_result"
    }
   ],
   "source": [
    "# 1.2 load image to predict\n",
    "\n",
    "path = r\"trainingIMG/test.jpg\"\n",
    "imageTest = cv2.imread(path)\n",
    "\n",
    "# 2 resize the image\n",
    "imageTest = resizeImage(imageTest)\n",
    "\n",
    "#cv2.imshow(\"testimage\", imageTest )\n",
    "#cv2.waitKey(0)\n",
    "\n",
    "cv2.imwrite(\"docsIMG/imageTest.png\", imageTest)\n"
   ]
  },
  {
   "cell_type": "markdown",
   "metadata": {},
   "source": [
    "Display testing image\n",
    "![imageTest](docsIMG/imageTest.png)\n",
    "\n",
    "\n",
    "\n",
    "### 2 predict using model"
   ]
  },
  {
   "cell_type": "code",
   "execution_count": 7,
   "metadata": {
    "collapsed": false
   },
   "outputs": [
    {
     "data": {
      "text/plain": [
       "True"
      ]
     },
     "execution_count": 7,
     "metadata": {},
     "output_type": "execute_result"
    }
   ],
   "source": [
    "# 2 predict using model\n",
    "\n",
    "maskedImage, predictionList, centerList = predictMaskedImage(imageTest)\n",
    "\n",
    "#cv2.imshow(\"maskedImage\", maskedImage )\n",
    "#cv2.waitKey(0)\n",
    "\n",
    "# save image\n",
    "\n",
    "cv2.imwrite(\"docsIMG/maskedImage.png\", maskedImage)\n"
   ]
  },
  {
   "cell_type": "markdown",
   "metadata": {},
   "source": [
    "Display maskedImage image\n",
    "![maskedImage](docsIMG/maskedImage.png)"
   ]
  },
  {
   "cell_type": "markdown",
   "metadata": {},
   "source": [
    "# Make figure of the labeling\n"
   ]
  },
  {
   "cell_type": "code",
   "execution_count": 12,
   "metadata": {
    "collapsed": false
   },
   "outputs": [
    {
     "name": "stdout",
     "output_type": "stream",
     "text": [
      "100\n",
      "100\n"
     ]
    },
    {
     "data": {
      "text/plain": [
       "True"
      ]
     },
     "execution_count": 12,
     "metadata": {},
     "output_type": "execute_result"
    }
   ],
   "source": [
    "# create the 3D grayscale image --> so that I can make color squares for figures to the thesis\n",
    "# This does not change the histograms created.\n",
    "#stacked = np.dstack([gray] * 3)\n",
    "\n",
    "\n",
    "image_prediction = imageTest.copy()\n",
    "\n",
    "# Divide the image into 100 pieces\n",
    "(h, w) = image_prediction.shape[:2]\n",
    "cellSizeYdir = h / 10\n",
    "cellSizeXdir = w / 10\n",
    "\n",
    "# Draw the box around area\n",
    "# loop over the x-axis of the image\n",
    "for x in xrange(0, w, cellSizeXdir):\n",
    "    # draw a line from the current x-coordinate to the bottom of\n",
    "    # the imagez\n",
    "    cv2.line(image_prediction, (x, 0), (x, h), (0, 255, 0), 1)\n",
    "    #   \n",
    "# loop over the y-axis of the image\n",
    "for y in xrange(0, h, cellSizeYdir):\n",
    "    # draw a line from the current y-coordinate to the right of\n",
    "    # the image\n",
    "    cv2.line(image_prediction, (0, y), (w, y), (0, 255, 0), 1)\n",
    "\n",
    "# draw a line at the bottom and far-right of the image\n",
    "cv2.line(image_prediction, (0, h - 1), (w, h - 1), (0, 255, 0), 1)\n",
    "cv2.line(image_prediction, (w - 1, 0), (w - 1, h - 1), (0, 255, 0), 1)\n",
    "\n",
    "# put the prediction text on top\n",
    " # show the output of the prediction with text\n",
    "print len(predictionList)    \n",
    "print len(centerList)\n",
    "\n",
    "for (i, predVal) in enumerate(predictionList):\n",
    "    CORD = centerList[i]\n",
    "    if predictionList[i] == \"other\":\n",
    "        colorFont = (0, 0, 255)  # \"Blue color for other\"\n",
    "    else:\n",
    "        colorFont = (255, 0, 0) # \"Red color for ocean\"\n",
    "\n",
    "    testOrg = (40, 40)  # need this for the if statment bellow\n",
    "\n",
    "    # for some yet unknown reason CORD does sometime contain somthing like this [[[210 209]] [[205 213]] ...]\n",
    "    # the following if statment is to not get a error becouse of this\n",
    "    if len(CORD) == len(testOrg):\n",
    "        textOrg = CORD\n",
    "        cv2.putText(image_prediction, predictionList[i], textOrg, cv2.FONT_HERSHEY_SIMPLEX, 0.1, colorFont, 3)\n",
    "        \n",
    "    else:\n",
    "        pass\n",
    "\n",
    "# show the important shit you did here\n",
    "cv2.imshow(\"image_prediction\", image_prediction)\n",
    "cv2.waitKey(0)\n",
    "\n",
    "\n",
    "cv2.imwrite(\"docsIMG/image_prediction_lbp.png\", image_prediction)"
   ]
  },
  {
   "cell_type": "markdown",
   "metadata": {},
   "source": [
    "The image displayed\n",
    "![image_shit](docsIMG/image_prediction_lbp.png)"
   ]
  }
 ],
 "metadata": {
  "kernelspec": {
   "display_name": "Python 2",
   "language": "python",
   "name": "python2"
  },
  "language_info": {
   "codemirror_mode": {
    "name": "ipython",
    "version": 2
   },
   "file_extension": ".py",
   "mimetype": "text/x-python",
   "name": "python",
   "nbconvert_exporter": "python",
   "pygments_lexer": "ipython2",
   "version": "2.7.11"
  }
 },
 "nbformat": 4,
 "nbformat_minor": 0
}
