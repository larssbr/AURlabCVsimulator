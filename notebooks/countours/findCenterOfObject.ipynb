{
 "cells": [
  {
   "cell_type": "markdown",
   "metadata": {
    "collapsed": true
   },
   "source": [
    "# Finding the center of the disparity image"
   ]
  },
  {
   "cell_type": "code",
   "execution_count": 12,
   "metadata": {
    "collapsed": false
   },
   "outputs": [
    {
     "name": "stdout",
     "output_type": "stream",
     "text": [
      "uint8\n"
     ]
    },
    {
     "data": {
      "text/plain": [
       "-1"
      ]
     },
     "execution_count": 12,
     "metadata": {},
     "output_type": "execute_result"
    }
   ],
   "source": [
    "# import neccasary pacages\n",
    "import numpy as np\n",
    "import cv2\n",
    "\n",
    "# load disparity image\n",
    "image = cv2.imread(\"disparity_visualBW_23.jpg\")\n",
    "\n",
    "print str(image.dtype)\n",
    "\n",
    "cv2.imshow(\"image\", image)\n",
    "cv2.waitKey(0)"
   ]
  },
  {
   "cell_type": "markdown",
   "metadata": {},
   "source": [
    "### Extract the countour\n",
    "\n",
    "-->  draw the coutour for vizualization "
   ]
  },
  {
   "cell_type": "code",
   "execution_count": 37,
   "metadata": {
    "collapsed": false
   },
   "outputs": [
    {
     "name": "stdout",
     "output_type": "stream",
     "text": [
      "Found 9 contours\n"
     ]
    },
    {
     "data": {
      "text/plain": [
       "-1"
      ]
     },
     "execution_count": 37,
     "metadata": {},
     "output_type": "execute_result"
    }
   ],
   "source": [
    "# import neccasary pacages\n",
    "import numpy as np\n",
    "import cv2\n",
    "\n",
    "# load disparity image\n",
    "#image = cv2.imread(\"C:\\CV_projects\\AURlabCVsimulator\\notebooks\\countours\\disparity_visualBW_23.jpg\")\n",
    "image = cv2.imread(\"disparity_visualBW_23.jpg\")\n",
    "\n",
    "# The image need to be monochrome i.e only one channel --> no (r,g,b)\n",
    "# to be able to run findContours\n",
    "imageMono= image\n",
    "imageMono = cv2.cvtColor(image, cv2.cv.CV_BGR2GRAY)\n",
    "#image = imageMono\n",
    "\n",
    "# make image abs\n",
    "#image = cv2.convertScaleAbs(image)\n",
    "\n",
    "# prepare image for centroid calculations\n",
    "# DILATE white points...\n",
    "imageMono = cv2.dilate(imageMono, np.ones((5, 5)))\n",
    "imageMono = cv2.dilate(imageMono, np.ones((5, 5)))\n",
    "\n",
    "#image = image.astype(np.uint8)\n",
    "\n",
    "# find all contours in the image and draw ALL contours on the image\n",
    "#(cnts, _) = cv2.findContours(image.copy(), cv2.RETR_LIST, cv2.CHAIN_APPROX_SIMPLE)\n",
    "(contours0, _) = cv2.findContours(imageMono, cv2.RETR_EXTERNAL, cv2.CHAIN_APPROX_SIMPLE)\n",
    "clone = imageMono.copy()\n",
    "cv2.drawContours(clone, contours0, -1, (255, 255, 255), 2)\n",
    "print \"Found {} contours\".format(len(contours0))\n",
    "\n",
    "# show the output image\n",
    "cv2.imshow(\"All Contours\", clone)\n",
    "cv2.waitKey(0)"
   ]
  },
  {
   "cell_type": "markdown",
   "metadata": {},
   "source": [
    "The image displayed"
   ]
  },
  {
   "cell_type": "markdown",
   "metadata": {},
   "source": [
    "###  Finding the center of the object\n",
    "\n",
    "Since there is different sizes of coutours, we need a way to weigh them so we get the average center of all the area seen.\n",
    "\n",
    "##### The geometric center is given by summing up all then centroids respective x and y position and multiplying them with there respective \"Area\".\n",
    "area = cv2.contourArea(cnt)\n",
    "\n",
    "m = cv2.moments(cnt)\n",
    "\n",
    "centroid_X = [area *int(round(m['m10']/m['m00']))]\n",
    "\n",
    "centroid_y = [area *int(round(m['m01']/m['m00']))]\n",
    "\n",
    "#### Then to Average all the centroids we divide by the totale Area given the folowing formula\n",
    "\n",
    "centroid_XList/areaTot\n",
    "\n",
    "centroid_YList/areaTot\n",
    "\n",
    "Before we sum up alle the \"scaled\" x and y positions to tp give the real centers. \n",
    "\n",
    "C_X = np.sum(centroid_XListCenters)\n",
    "\n",
    "C_Y = np.sum(centroid_YListCenters) "
   ]
  },
  {
   "cell_type": "code",
   "execution_count": 3,
   "metadata": {
    "collapsed": false
   },
   "outputs": [
    {
     "name": "stdout",
     "output_type": "stream",
     "text": [
      "639\n",
      "429\n"
     ]
    }
   ],
   "source": [
    "centroid_XList = []\n",
    "centroid_YList = []\n",
    "\n",
    "areaTot = 0\n",
    "for (i, cnt) in enumerate(contours0):\n",
    "    area = cv2.contourArea(cnt)\n",
    "    \n",
    "    # compute the moments of the contour\n",
    "    # use the moments to compute the \"center of mass\" of each contour\n",
    "    m = cv2.moments(cnt)\n",
    "    centroid_X = [area *int(round(m['m10']/m['m00']))]\n",
    "    centroid_y = [area *int(round(m['m01']/m['m00']))]\n",
    "    \n",
    "    centroid_XList.append(centroid_X)\n",
    "    centroid_YList.append(centroid_y)\n",
    "    \n",
    "    areaTot = areaTot + area\n",
    "    \n",
    "centroid_XList = np.asarray(centroid_XList)\n",
    "centroid_YList = np.asarray(centroid_YList)\n",
    "\n",
    "# take the average\n",
    "centroid_XListCenters = centroid_XList/areaTot\n",
    "centroid_YListCenters = centroid_YList/areaTot\n",
    "\n",
    "# sum the points and cast to int so cv2.draw works\n",
    "objectCenterX = int(np.sum(centroid_XListCenters))\n",
    "objectCenterY = int(np.sum(centroid_YListCenters))\n",
    "\n",
    "print objectCenterX\n",
    "print objectCenterY"
   ]
  },
  {
   "cell_type": "markdown",
   "metadata": {
    "collapsed": true
   },
   "source": [
    "### Draw the center on the image to check it is correct"
   ]
  },
  {
   "cell_type": "code",
   "execution_count": 4,
   "metadata": {
    "collapsed": false
   },
   "outputs": [
    {
     "data": {
      "text/plain": [
       "-1"
      ]
     },
     "execution_count": 4,
     "metadata": {},
     "output_type": "execute_result"
    }
   ],
   "source": [
    "# Unpack tuple.\n",
    "#objectCenterX = int(objectCenterX)\n",
    "#objectCenterY = int(objectCenterY)\n",
    "\n",
    "# draw the center of the object on the image\n",
    "cv2.circle(clone, (objectCenterX, objectCenterY), 10, (255, 255, 255), 2)\n",
    "\n",
    "# show the output image\n",
    "cv2.imshow(\"All Contours + center\", clone)\n",
    "cv2.waitKey(0)"
   ]
  },
  {
   "cell_type": "markdown",
   "metadata": {},
   "source": [
    "## Get the centerCodinates for drawing purposes later"
   ]
  },
  {
   "cell_type": "code",
   "execution_count": 5,
   "metadata": {
    "collapsed": false
   },
   "outputs": [],
   "source": [
    "########################################\n",
    "moments = [cv2.moments(cnt) for cnt in contours0]\n",
    "centroids = [( int(round(m['m10']/m['m00'])), int(round(m['m01']/m['m00'])) ) for m in moments]\n",
    "centerCordinates = []\n",
    "for ctr in centroids:\n",
    "    centerCordinates.append(ctr)\n",
    "centerCordinates = np.asarray(centerCordinates)\n",
    "#########################################"
   ]
  },
  {
   "cell_type": "markdown",
   "metadata": {},
   "source": [
    "### Make a bounding box with  some margin around the obstacle "
   ]
  },
  {
   "cell_type": "code",
   "execution_count": 43,
   "metadata": {
    "collapsed": false
   },
   "outputs": [
    {
     "name": "stdout",
     "output_type": "stream",
     "text": [
      "x : 779\n",
      "y : 883\n",
      "w : 82\n",
      "x : 715\n",
      "y : 843\n",
      "w : 26\n",
      "x : 827\n",
      "y : 835\n",
      "w : 34\n",
      "x : 843\n",
      "y : 763\n",
      "w : 18\n",
      "x : 843\n",
      "y : 739\n",
      "w : 26\n",
      "x : 843\n",
      "y : 667\n",
      "w : 18\n",
      "x : 343\n",
      "y : 1\n",
      "w : 616\n"
     ]
    },
    {
     "data": {
      "text/plain": [
       "-1"
      ]
     },
     "execution_count": 43,
     "metadata": {},
     "output_type": "execute_result"
    }
   ],
   "source": [
    "# Get the outhermost --> areas so we can make a circle around the dots, not the centers.\n",
    "(contours0, _) = cv2.findContours(clone.copy(), cv2.RETR_EXTERNAL, cv2.CHAIN_APPROX_SIMPLE)\n",
    "\n",
    "xLast, yLast = clone.shape[:2]\n",
    "wLast = 0\n",
    "hLast = 0\n",
    "\n",
    "for c in contours0:\n",
    "    # fit a bounding box to the contour\n",
    "    (x, y, w, h) = cv2.boundingRect(c)\n",
    "    \n",
    "    if(xLast > x):\n",
    "        xLast = x\n",
    "        \n",
    "    if(yLast > y):\n",
    "        yLast = y\n",
    "        \n",
    "    #if (wLast < w):\n",
    "    wLast = wLast + w\n",
    "        \n",
    "    #if (hLast < h):\n",
    "    hLast = hLast + h\n",
    "    \n",
    "    print \"x : \" + str(x)\n",
    "    print \"y : \" + str(y)\n",
    "    print \"w : \" + str(w)\n",
    "    \n",
    "\n",
    "cv2.rectangle(clone, (xLast, yLast), (xLast + wLast, yLast + hLast), (255, 255, 255), 2)\n",
    "        \n",
    "\n",
    "# Display the drawn image\n",
    "cv2.imshow(\"drawnImage\", clone)\n",
    "cv2.waitKey(0)"
   ]
  },
  {
   "cell_type": "code",
   "execution_count": null,
   "metadata": {
    "collapsed": true
   },
   "outputs": [],
   "source": [
    ""
   ]
  }
 ],
 "metadata": {
  "kernelspec": {
   "display_name": "Python 2",
   "language": "python",
   "name": "python2"
  },
  "language_info": {
   "codemirror_mode": {
    "name": "ipython",
    "version": 2.0
   },
   "file_extension": ".py",
   "mimetype": "text/x-python",
   "name": "python",
   "nbconvert_exporter": "python",
   "pygments_lexer": "ipython2",
   "version": "2.7.11"
  }
 },
 "nbformat": 4,
 "nbformat_minor": 0
}