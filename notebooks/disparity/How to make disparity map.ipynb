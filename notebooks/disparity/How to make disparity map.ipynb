{
 "cells": [
  {
   "cell_type": "markdown",
   "metadata": {},
   "source": [
    "Load in the image Pair"
   ]
  },
  {
   "cell_type": "code",
   "execution_count": 1,
   "metadata": {
    "collapsed": false
   },
   "outputs": [
    {
     "data": {
      "text/plain": [
       "-1"
      ]
     },
     "execution_count": 1,
     "metadata": {},
     "output_type": "execute_result"
    }
   ],
   "source": [
    "import cv2\n",
    "import numpy as np\n",
    "\n",
    "# The filnames\n",
    "dirPathLeft = \"tokt1_L_181.jpg\"\n",
    "dirPathRight = \"tokt1_R_181.jpg\"\n",
    "\n",
    "# load the image\n",
    "imgsLeft = cv2.imread(dirPathLeft)\n",
    "imgsRight = cv2.imread(dirPathRight)\n",
    "\n",
    "\n",
    "cv2.imshow(\"imageLeft\" , imgsLeft)\n",
    "cv2.imshow(\"imageRight\" , imgsRight)\n",
    "cv2.waitKey(0)"
   ]
  },
  {
   "cell_type": "markdown",
   "metadata": {},
   "source": [
    "### Run the DisparityImage class process\n",
    "\n",
    "1 - Load Camera parameters\n",
    "\n",
    "2 - undistort image pair\n",
    "\n",
    "3 - make image pair gray scale\n",
    "\n",
    "4 - block matching\n",
    "\n",
    "5 - remmove error margin (from challenging claibration parameters)"
   ]
  },
  {
   "cell_type": "markdown",
   "metadata": {},
   "source": [
    "###  Load the camera parameters"
   ]
  },
  {
   "cell_type": "code",
   "execution_count": 2,
   "metadata": {
    "collapsed": false
   },
   "outputs": [],
   "source": [
    "#def loadCameraParameters(self):\n",
    "# left\n",
    "fxL = 2222.72426\n",
    "fyL = 2190.48031\n",
    "\n",
    "k1L = 0.27724\n",
    "k2L = 0.28163\n",
    "k3L = -0.06867\n",
    "k4L = 0.00358\n",
    "k5L = 0.00000\n",
    "\n",
    "cxL = 681.42537\n",
    "cyL = -22.08306\n",
    "\n",
    "skewL = 0\n",
    "\n",
    "p1L = 0\n",
    "p2L = 0\n",
    "p3L = 0\n",
    "p4L = 0\n",
    "\n",
    "# right\n",
    "fxR = 2226.10095\n",
    "fyR = 2195.17250\n",
    "\n",
    "k1R = 0.29407\n",
    "k2R = 0.29892\n",
    "k3R = 0 - 0.08315\n",
    "k4R = -0.01218\n",
    "k5R = 0.00000\n",
    "\n",
    "cxR = 637.64260\n",
    "cyR = -33.60849\n",
    "\n",
    "skewR = 0\n",
    "\n",
    "p1R = 0\n",
    "p2R = 0\n",
    "p3R = 0\n",
    "p4R = 0\n",
    "\n",
    "# x0 and y0 is zero\n",
    "x0 = 0\n",
    "y0 = 0\n",
    "\n",
    "intrinsic_matrixL = np.matrix([[fxL, skewL, x0], [0, fyL, y0], [0, 0, 1]])\n",
    "intrinsic_matrixR = np.matrix([[fxR, skewR, x0], [0, fyR, y0], [0, 0, 1]])\n",
    "\n",
    "distCoeffL = np.matrix([k1L, k2L, p1L, p2L, k3L])\n",
    "distCoeffR = np.matrix([k1R, k2R, p1R, p2R, k3R])\n",
    "\n",
    "# Parameters\n",
    "\n",
    "base_offset = 30.5 # b:= base offset, (the distance *between* your cameras)\n",
    "# f:= focal length of camera,\n",
    "fx = 2222\n",
    "focal_length = (fx * 35) / 1360  # 1360 is the width of the image, 35 is width of old camera film in mm (10^-3 m)\n"
   ]
  },
  {
   "cell_type": "code",
   "execution_count": 3,
   "metadata": {
    "collapsed": true
   },
   "outputs": [],
   "source": [
    "def getDisparity(imgLeft, imgRight, method=\"BM\"):\n",
    "    # 1 make the images grayscale\n",
    "    gray_left = cv2.cvtColor(imgLeft, cv2.cv.CV_BGR2GRAY)\n",
    "    gray_right = cv2.cvtColor(imgRight, cv2.cv.CV_BGR2GRAY)\n",
    "    \n",
    "    # 2 preform \"BM\" --> \"Block Matching\"\n",
    "    c, r = gray_left.shape\n",
    "    if method == \"BM\":\n",
    "\n",
    "        sbm = cv2.cv.CreateStereoBMState()\n",
    "        disparity = cv2.cv.CreateMat(c, r, cv2.cv.CV_32F)\n",
    "        sbm.SADWindowSize = 9\n",
    "        sbm.preFilterType = 1\n",
    "        sbm.preFilterSize = 5\n",
    "        sbm.preFilterCap = 61\n",
    "        sbm.minDisparity = -39\n",
    "        sbm.numberOfDisparities = 112\n",
    "        sbm.textureThreshold = 507\n",
    "        sbm.uniquenessRatio = 0\n",
    "        sbm.speckleRange = 8\n",
    "        sbm.speckleWindowSize = 0\n",
    "\n",
    "\n",
    "        gray_left = cv2.cv.fromarray(gray_left)\n",
    "        gray_right = cv2.cv.fromarray(gray_right)\n",
    "\n",
    "        cv2.cv.FindStereoCorrespondenceBM(gray_left, gray_right, disparity, sbm)\n",
    "        disparity_visual = cv2.cv.CreateMat(c, r, cv2.cv.CV_8U)\n",
    "        cv2.cv.Normalize(disparity, disparity_visual, 0, 255, cv2.cv.CV_MINMAX)\n",
    "\n",
    "        disparity_visual = np.array(disparity_visual)\n",
    "    \n",
    "    elif method == \"SGBM\":\n",
    "        sbm = cv2.StereoSGBM()\n",
    "        sbm.SADWindowSize = 9\n",
    "        sbm.numberOfDisparities = 96\n",
    "        sbm.preFilterCap = 63\n",
    "        sbm.minDisparity = -21\n",
    "        sbm.uniquenessRatio = 7\n",
    "        sbm.speckleWindowSize = 0\n",
    "        sbm.speckleRange = 8\n",
    "        sbm.disp12MaxDiff = 1\n",
    "        sbm.fullDP = False\n",
    "\n",
    "        disparity = sbm.compute(gray_left, gray_right)\n",
    "        disparity_visual = cv2.normalize(disparity, alpha=0, beta=255, norm_type=cv2.cv.CV_MINMAX,\n",
    "                                         dtype=cv2.cv.CV_8U)\n",
    "    \n",
    "    return disparity_visual"
   ]
  },
  {
   "cell_type": "code",
   "execution_count": 4,
   "metadata": {
    "collapsed": true
   },
   "outputs": [],
   "source": [
    "def disparityCalc():\n",
    "    # 1 undistort the image pair\n",
    "    undistorted_image_L = cv2.undistort(imgsLeft, intrinsic_matrixL, distCoeffL, None)\n",
    "    undistorted_image_R = cv2.undistort(imgsRight, intrinsic_matrixR, distCoeffR, None)\n",
    "    \n",
    "    # 2 --> calculate disparity images\n",
    "    disparity_visual = getDisparity(imgLeft=undistorted_image_L, imgRight=undistorted_image_R, method=\"BM\")\n",
    "    disparity_visual = disparity_visual.astype(np.uint8)\n",
    "    return disparity_visual"
   ]
  },
  {
   "cell_type": "markdown",
   "metadata": {
    "collapsed": true
   },
   "source": [
    "Display the disparity image "
   ]
  },
  {
   "cell_type": "code",
   "execution_count": 5,
   "metadata": {
    "collapsed": false
   },
   "outputs": [
    {
     "data": {
      "text/plain": [
       "-1"
      ]
     },
     "execution_count": 5,
     "metadata": {},
     "output_type": "execute_result"
    }
   ],
   "source": [
    "disparity_visual = disparityCalc()\n",
    "cv2.imshow(\"disparity\", disparity_visual)\n",
    "cv2.waitKey(0)"
   ]
  },
  {
   "cell_type": "code",
   "execution_count": 6,
   "metadata": {
    "collapsed": true
   },
   "outputs": [],
   "source": [
    "#disparity_visual = dispClass.process()\n",
    "def process():\n",
    "    disparity_visual = disparityCalc()\n",
    "    cv2.imshow(\"disparity\", disparity_visual)\n",
    "    cv2.waitKey(0)\n",
    "\n",
    "process()"
   ]
  },
  {
   "cell_type": "markdown",
   "metadata": {},
   "source": [
    "#### Remove the error margin"
   ]
  },
  {
   "cell_type": "code",
   "execution_count": 9,
   "metadata": {
    "collapsed": false
   },
   "outputs": [
    {
     "data": {
      "text/plain": [
       "-1"
      ]
     },
     "execution_count": 9,
     "metadata": {},
     "output_type": "execute_result"
    }
   ],
   "source": [
    "disparity_visual = disparityCalc()\n",
    "\n",
    "#disparity_visual = disparity_visual.astype(np.float32)\n",
    "\n",
    "# this part is to remove the error from the calibration\n",
    "width, height = disparity_visual.shape[:2][::-1]\n",
    "margin = 200\n",
    "\n",
    "y1 = 0\n",
    "y2 = height\n",
    "x1 = margin\n",
    "x2 = width - margin\n",
    "# \"Croping the image\"\n",
    "disparity_visual = disparity_visual[y1:y2, x1:x2]\n",
    "\n",
    "cv2.imshow(\"disparity\", disparity_visual)\n",
    "cv2.waitKey(0)"
   ]
  },
  {
   "cell_type": "code",
   "execution_count": null,
   "metadata": {
    "collapsed": true
   },
   "outputs": [],
   "source": []
  }
 ],
 "metadata": {
  "kernelspec": {
   "display_name": "Python 2",
   "language": "python",
   "name": "python2"
  },
  "language_info": {
   "codemirror_mode": {
    "name": "ipython",
    "version": 2
   },
   "file_extension": ".py",
   "mimetype": "text/x-python",
   "name": "python",
   "nbconvert_exporter": "python",
   "pygments_lexer": "ipython2",
   "version": "2.7.11"
  }
 },
 "nbformat": 4,
 "nbformat_minor": 0
}
